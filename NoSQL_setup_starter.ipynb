{
 "cells": [
  {
   "cell_type": "markdown",
   "id": "9a57c4c6",
   "metadata": {},
   "source": [
    "# Eat Safe, Love"
   ]
  },
  {
   "cell_type": "markdown",
   "id": "064ef857",
   "metadata": {},
   "source": [
    "## Part 1: Database and Jupyter Notebook Set Up"
   ]
  },
  {
   "cell_type": "markdown",
   "id": "664e3c1f",
   "metadata": {},
   "source": [
    "Import the data provided in the `establishments.json` file from your Terminal. Name the database `uk_food` and the collection `establishments`.\n",
    "\n",
    "Within this markdown cell, copy the line of text you used to import the data from your Terminal. This way, future analysts will be able to repeat your process.\n",
    "\n",
    "e.g.: Import the dataset with `YOUR IMPORT TEXT HERE`"
   ]
  },
  {
   "cell_type": "code",
   "execution_count": 1,
   "id": "3ecdd008",
   "metadata": {},
   "outputs": [],
   "source": [
    "# Import dependencies\n",
    "from pymongo import MongoClient\n",
    "from pprint import pprint"
   ]
  },
  {
   "cell_type": "code",
   "execution_count": 2,
   "id": "59390c4a",
   "metadata": {},
   "outputs": [],
   "source": [
    "# Create an instance of MongoClient\n",
    "mongo = MongoClient(port=27017)"
   ]
  },
  {
   "cell_type": "code",
   "execution_count": 3,
   "id": "7f9ececa",
   "metadata": {},
   "outputs": [
    {
     "name": "stdout",
     "output_type": "stream",
     "text": [
      "['admin', 'config', 'fruits_db', 'local']\n"
     ]
    }
   ],
   "source": [
    "# confirm that our new database was created\n",
    "uk_food = mongo.list_database_names()\n",
    "pprint(uk_food)"
   ]
  },
  {
   "cell_type": "code",
   "execution_count": 4,
   "id": "71e373c1",
   "metadata": {},
   "outputs": [],
   "source": [
    "# assign the uk_food database to a variable name\n",
    "db = mongo['uk_food']"
   ]
  },
  {
   "cell_type": "code",
   "execution_count": 5,
   "id": "ef1b89ed",
   "metadata": {},
   "outputs": [
    {
     "name": "stdout",
     "output_type": "stream",
     "text": [
      "[]\n"
     ]
    }
   ],
   "source": [
    "# review the collections in our new database\n",
    "collections = db.list_collection_names()\n",
    "\n",
    "# Print the collections\n",
    "print(collections)"
   ]
  },
  {
   "cell_type": "code",
   "execution_count": 6,
   "id": "18ab463c",
   "metadata": {},
   "outputs": [
    {
     "name": "stdout",
     "output_type": "stream",
     "text": [
      "None\n"
     ]
    }
   ],
   "source": [
    "# review a document in the establishments collection\n",
    "document = db['establishments'].find_one()\n",
    "\n",
    "# Print the document\n",
    "pprint(document)"
   ]
  },
  {
   "cell_type": "code",
   "execution_count": 7,
   "id": "11c9f11b",
   "metadata": {},
   "outputs": [],
   "source": [
    "# assign the collection to a variable\n",
    "establishments = db['establishments']"
   ]
  },
  {
   "cell_type": "markdown",
   "id": "d5671434",
   "metadata": {},
   "source": [
    "## Part 2: Update the Database"
   ]
  },
  {
   "cell_type": "markdown",
   "id": "314bd884",
   "metadata": {},
   "source": [
    "1. An exciting new halal restaurant just opened in Greenwich, but hasn't been rated yet. The magazine has asked you to include it in your analysis. Add the following restaurant \"Penang Flavours\" to the database."
   ]
  },
  {
   "cell_type": "code",
   "execution_count": 8,
   "id": "c2da7648",
   "metadata": {},
   "outputs": [
    {
     "name": "stdout",
     "output_type": "stream",
     "text": [
      "{'AddressLine1': 'Penang Flavours',\n",
      " 'AddressLine2': '146A Plumstead Rd',\n",
      " 'AddressLine3': 'London',\n",
      " 'AddressLine4': '',\n",
      " 'BusinessName': 'Penang Flavours',\n",
      " 'BusinessType': 'Restaurant/Cafe/Canteen',\n",
      " 'BusinessTypeID': '',\n",
      " 'Distance': 4623.972328074718,\n",
      " 'LocalAuthorityCode': '511',\n",
      " 'LocalAuthorityEmailAddress': 'health@royalgreenwich.gov.uk',\n",
      " 'LocalAuthorityName': 'Greenwich',\n",
      " 'LocalAuthorityWebSite': 'http://www.royalgreenwich.gov.uk',\n",
      " 'NewRatingPending': True,\n",
      " 'Phone': '',\n",
      " 'PostCode': 'SE18 7DY',\n",
      " 'RightToReply': '',\n",
      " 'SchemeType': 'FHRS',\n",
      " 'geocode': {'latitude': '51.49014200', 'longitude': '0.08384000'},\n",
      " 'scores': {'ConfidenceInManagement': '', 'Hygiene': '', 'Structural': ''}}\n"
     ]
    }
   ],
   "source": [
    "# Create a dictionary for the new restaurant data\n",
    "new_restaurant_data = {\n",
    "    \"BusinessName\": \"Penang Flavours\",\n",
    "    \"BusinessType\": \"Restaurant/Cafe/Canteen\",\n",
    "    \"BusinessTypeID\": \"\",\n",
    "    \"AddressLine1\": \"Penang Flavours\",\n",
    "    \"AddressLine2\": \"146A Plumstead Rd\",\n",
    "    \"AddressLine3\": \"London\",\n",
    "    \"AddressLine4\": \"\",\n",
    "    \"PostCode\": \"SE18 7DY\",\n",
    "    \"Phone\": \"\",\n",
    "    \"LocalAuthorityCode\": \"511\",\n",
    "    \"LocalAuthorityName\": \"Greenwich\",\n",
    "    \"LocalAuthorityWebSite\": \"http://www.royalgreenwich.gov.uk\",\n",
    "    \"LocalAuthorityEmailAddress\": \"health@royalgreenwich.gov.uk\",\n",
    "    \"scores\": {\n",
    "        \"Hygiene\": \"\",\n",
    "        \"Structural\": \"\",\n",
    "        \"ConfidenceInManagement\": \"\"\n",
    "    },\n",
    "    \"SchemeType\": \"FHRS\",\n",
    "    \"geocode\": {\n",
    "        \"longitude\": \"0.08384000\",\n",
    "        \"latitude\": \"51.49014200\"\n",
    "    },\n",
    "    \"RightToReply\": \"\",\n",
    "    \"Distance\": 4623.9723280747176,\n",
    "    \"NewRatingPending\": True\n",
    "}\n",
    "\n",
    "# Print the dictionary to verify the data\n",
    "pprint(new_restaurant_data)"
   ]
  },
  {
   "cell_type": "code",
   "execution_count": 9,
   "id": "a6e5cece",
   "metadata": {},
   "outputs": [
    {
     "data": {
      "text/plain": [
       "InsertOneResult(ObjectId('6733fd4a93fcb166b66ee541'), acknowledged=True)"
      ]
     },
     "execution_count": 9,
     "metadata": {},
     "output_type": "execute_result"
    }
   ],
   "source": [
    "# Insert the new restaurant into the collection\n",
    "establishments.insert_one(new_restaurant_data)"
   ]
  },
  {
   "cell_type": "code",
   "execution_count": 10,
   "id": "63bb10f9",
   "metadata": {},
   "outputs": [
    {
     "name": "stdout",
     "output_type": "stream",
     "text": [
      "{'AddressLine1': 'Penang Flavours',\n",
      " 'AddressLine2': '146A Plumstead Rd',\n",
      " 'AddressLine3': 'London',\n",
      " 'AddressLine4': '',\n",
      " 'BusinessName': 'Penang Flavours',\n",
      " 'BusinessType': 'Restaurant/Cafe/Canteen',\n",
      " 'BusinessTypeID': '',\n",
      " 'Distance': 4623.972328074718,\n",
      " 'LocalAuthorityCode': '511',\n",
      " 'LocalAuthorityEmailAddress': 'health@royalgreenwich.gov.uk',\n",
      " 'LocalAuthorityName': 'Greenwich',\n",
      " 'LocalAuthorityWebSite': 'http://www.royalgreenwich.gov.uk',\n",
      " 'NewRatingPending': True,\n",
      " 'Phone': '',\n",
      " 'PostCode': 'SE18 7DY',\n",
      " 'RightToReply': '',\n",
      " 'SchemeType': 'FHRS',\n",
      " '_id': ObjectId('6733fd4a93fcb166b66ee541'),\n",
      " 'geocode': {'latitude': '51.49014200', 'longitude': '0.08384000'},\n",
      " 'scores': {'ConfidenceInManagement': '', 'Hygiene': '', 'Structural': ''}}\n"
     ]
    }
   ],
   "source": [
    "# Check that the new restaurant was inserted\n",
    "inserted_document = establishments.find_one({\"BusinessName\": \"Penang Flavours\"})\n",
    "pprint(inserted_document)\n"
   ]
  },
  {
   "cell_type": "markdown",
   "id": "0ef4395a",
   "metadata": {},
   "source": [
    "2. Find the BusinessTypeID for \"Restaurant/Cafe/Canteen\" and return only the `BusinessTypeID` and `BusinessType` fields."
   ]
  },
  {
   "cell_type": "code",
   "execution_count": 11,
   "id": "93c63829",
   "metadata": {},
   "outputs": [
    {
     "name": "stdout",
     "output_type": "stream",
     "text": [
      "{'BusinessType': 'Restaurant/Cafe/Canteen',\n",
      " 'BusinessTypeID': '',\n",
      " '_id': ObjectId('6733fd4a93fcb166b66ee541')}\n"
     ]
    }
   ],
   "source": [
    "# Find the BusinessTypeID for \"Restaurant/Cafe/Canteen\" and return only the BusinessTypeID and BusinessType fields\n",
    "result = establishments.find_one(\n",
    "    {\"BusinessType\": \"Restaurant/Cafe/Canteen\"},\n",
    "    {\"BusinessTypeID\": 1, \"BusinessType\": 1}\n",
    ")\n",
    "\n",
    "# Print the result\n",
    "pprint(result)"
   ]
  },
  {
   "cell_type": "markdown",
   "id": "4e570caf",
   "metadata": {},
   "source": [
    "3. Update the new restaurant with the `BusinessTypeID` you found."
   ]
  },
  {
   "cell_type": "code",
   "execution_count": 12,
   "id": "7f599f3d",
   "metadata": {},
   "outputs": [
    {
     "name": "stdout",
     "output_type": "stream",
     "text": [
      "BusinessTypeID not found for the given BusinessType.\n"
     ]
    }
   ],
   "source": [
    "# Update the new restaurant with the correct BusinessTypeID\n",
    "business_type_data = establishments.find_one(\n",
    "    {\"BusinessType\": \"Restaurant/Cafe/Canteen\"},\n",
    "    {\"BusinessTypeID\": 1}\n",
    ")\n",
    "\n",
    "# Get the BusinessTypeID value\n",
    "business_type_id = business_type_data.get(\"BusinessTypeID\") if business_type_data else None\n",
    "\n",
    "# Update the new restaurant document with the correct BusinessTypeID\n",
    "if business_type_id:\n",
    "    establishments.update_one(\n",
    "        {\"BusinessName\": \"Penang Flavours\"},\n",
    "        {\"$set\": {\"BusinessTypeID\": business_type_id}}\n",
    "    )\n",
    "\n",
    "    # Confirm the update by retrieving the updated document\n",
    "    updated_document = establishments.find_one({\"BusinessName\": \"Penang Flavours\"})\n",
    "    pprint(updated_document)\n",
    "else:\n",
    "    print(\"BusinessTypeID not found for the given BusinessType.\")"
   ]
  },
  {
   "cell_type": "code",
   "execution_count": 13,
   "id": "a6ad16f7",
   "metadata": {},
   "outputs": [
    {
     "data": {
      "text/plain": [
       "{'_id': ObjectId('6733fd4a93fcb166b66ee541'),\n",
       " 'BusinessName': 'Penang Flavours',\n",
       " 'BusinessType': 'Restaurant/Cafe/Canteen',\n",
       " 'BusinessTypeID': '',\n",
       " 'AddressLine1': 'Penang Flavours',\n",
       " 'AddressLine2': '146A Plumstead Rd',\n",
       " 'AddressLine3': 'London',\n",
       " 'AddressLine4': '',\n",
       " 'PostCode': 'SE18 7DY',\n",
       " 'Phone': '',\n",
       " 'LocalAuthorityCode': '511',\n",
       " 'LocalAuthorityName': 'Greenwich',\n",
       " 'LocalAuthorityWebSite': 'http://www.royalgreenwich.gov.uk',\n",
       " 'LocalAuthorityEmailAddress': 'health@royalgreenwich.gov.uk',\n",
       " 'scores': {'Hygiene': '', 'Structural': '', 'ConfidenceInManagement': ''},\n",
       " 'SchemeType': 'FHRS',\n",
       " 'geocode': {'longitude': '0.08384000', 'latitude': '51.49014200'},\n",
       " 'RightToReply': '',\n",
       " 'Distance': 4623.972328074718,\n",
       " 'NewRatingPending': True}"
      ]
     },
     "execution_count": 13,
     "metadata": {},
     "output_type": "execute_result"
    }
   ],
   "source": [
    "# Confirm that the new restaurant was updated\n",
    "establishments.find_one({\"BusinessName\": \"Penang Flavours\"})"
   ]
  },
  {
   "cell_type": "markdown",
   "id": "67281254",
   "metadata": {},
   "source": [
    "4. The magazine is not interested in any establishments in Dover, so check how many documents contain the Dover Local Authority. Then, remove any establishments within the Dover Local Authority from the database, and check the number of documents to ensure they were deleted."
   ]
  },
  {
   "cell_type": "code",
   "execution_count": 14,
   "id": "768474a6",
   "metadata": {},
   "outputs": [
    {
     "name": "stdout",
     "output_type": "stream",
     "text": [
      "0\n"
     ]
    }
   ],
   "source": [
    "# Find how many documents have LocalAuthorityName as \"Dover\"\n",
    "count = establishments.count_documents({\"LocalAuthorityName\": \"Dover\"})\n",
    "print(count)\n"
   ]
  },
  {
   "cell_type": "code",
   "execution_count": 15,
   "id": "a11d5f1b",
   "metadata": {},
   "outputs": [
    {
     "data": {
      "text/plain": [
       "DeleteResult({'n': 0, 'ok': 1.0}, acknowledged=True)"
      ]
     },
     "execution_count": 15,
     "metadata": {},
     "output_type": "execute_result"
    }
   ],
   "source": [
    "# Delete all documents where LocalAuthorityName is \"Dover\"\n",
    "establishments.delete_many({\"LocalAuthorityName\":\"Dover\"})"
   ]
  },
  {
   "cell_type": "code",
   "execution_count": 16,
   "id": "2a51aba0",
   "metadata": {},
   "outputs": [
    {
     "name": "stdout",
     "output_type": "stream",
     "text": [
      "No documents found with LocalAuthorityName 'Dover'.\n"
     ]
    }
   ],
   "source": [
    "# Check if any remaining documents include Dover\n",
    "remaining_document = establishments.find_one({\"LocalAuthorityName\": \"Dover\"})\n",
    "\n",
    "# Print the result\n",
    "if remaining_document:\n",
    "    print(\"There are still documents with LocalAuthorityName 'Dover'.\")\n",
    "    pprint(remaining_document)\n",
    "else:\n",
    "    print(\"No documents found with LocalAuthorityName 'Dover'.\")"
   ]
  },
  {
   "cell_type": "code",
   "execution_count": 17,
   "id": "8c356f7b",
   "metadata": {},
   "outputs": [
    {
     "name": "stdout",
     "output_type": "stream",
     "text": [
      "There are still documents remaining in the collection.\n",
      "{'AddressLine1': 'Penang Flavours',\n",
      " 'AddressLine2': '146A Plumstead Rd',\n",
      " 'AddressLine3': 'London',\n",
      " 'AddressLine4': '',\n",
      " 'BusinessName': 'Penang Flavours',\n",
      " 'BusinessType': 'Restaurant/Cafe/Canteen',\n",
      " 'BusinessTypeID': '',\n",
      " 'Distance': 4623.972328074718,\n",
      " 'LocalAuthorityCode': '511',\n",
      " 'LocalAuthorityEmailAddress': 'health@royalgreenwich.gov.uk',\n",
      " 'LocalAuthorityName': 'Greenwich',\n",
      " 'LocalAuthorityWebSite': 'http://www.royalgreenwich.gov.uk',\n",
      " 'NewRatingPending': True,\n",
      " 'Phone': '',\n",
      " 'PostCode': 'SE18 7DY',\n",
      " 'RightToReply': '',\n",
      " 'SchemeType': 'FHRS',\n",
      " '_id': ObjectId('6733fd4a93fcb166b66ee541'),\n",
      " 'geocode': {'latitude': '51.49014200', 'longitude': '0.08384000'},\n",
      " 'scores': {'ConfidenceInManagement': '', 'Hygiene': '', 'Structural': ''}}\n"
     ]
    }
   ],
   "source": [
    "# Check that other documents remain with 'find_one'\n",
    "remaining_document = establishments.find_one({\"LocalAuthorityName\": {\"$ne\": \"Dover\"}})\n",
    "\n",
    "# Print the result\n",
    "if remaining_document:\n",
    "    print(\"There are still documents remaining in the collection.\")\n",
    "    pprint(remaining_document)\n",
    "else:\n",
    "    print(\"No documents remain in the collection.\")"
   ]
  },
  {
   "attachments": {},
   "cell_type": "markdown",
   "id": "e9f1662d",
   "metadata": {},
   "source": [
    "5. Some of the number values are stored as strings, when they should be stored as numbers."
   ]
  },
  {
   "attachments": {},
   "cell_type": "markdown",
   "id": "c46df2df",
   "metadata": {},
   "source": [
    "Use `update_many` to convert `latitude` and `longitude` to decimal numbers."
   ]
  },
  {
   "cell_type": "code",
   "execution_count": 18,
   "id": "fd4112ce",
   "metadata": {},
   "outputs": [
    {
     "name": "stdout",
     "output_type": "stream",
     "text": [
      "Update complete.\n"
     ]
    }
   ],
   "source": [
    "# Change the data type from String to Decimal for longitude and latitude\n",
    "from bson import Decimal128\n",
    "from decimal import Decimal\n",
    "\n",
    "# Find documents where longitude and latitude are of type string\n",
    "documents = establishments.find({\"geocode.longitude\": {\"$type\": \"string\"}, \"geocode.latitude\": {\"$type\": \"string\"}})\n",
    "\n",
    "# Loop through the documents to update longitude and latitude\n",
    "for doc in documents:\n",
    "    # Convert longitude and latitude from string to Decimal128\n",
    "    longitude_decimal = Decimal128(Decimal(doc[\"geocode\"][\"longitude\"]))\n",
    "    latitude_decimal = Decimal128(Decimal(doc[\"geocode\"][\"latitude\"]))\n",
    "\n",
    "    # Update the document with the new Decimal128 values for longitude and latitude\n",
    "    establishments.update_one(\n",
    "        {\"_id\": doc[\"_id\"]},  # Use the document's _id to uniquely identify it\n",
    "        {\"$set\": {\n",
    "            \"geocode.longitude\": longitude_decimal,\n",
    "            \"geocode.latitude\": latitude_decimal\n",
    "        }}\n",
    "    )\n",
    "\n",
    "print(\"Update complete.\")"
   ]
  },
  {
   "attachments": {},
   "cell_type": "markdown",
   "id": "142e319c",
   "metadata": {},
   "source": [
    "Use `update_many` to convert `RatingValue` to integer numbers."
   ]
  },
  {
   "cell_type": "code",
   "execution_count": 25,
   "id": "04430a5b",
   "metadata": {},
   "outputs": [
    {
     "name": "stdout",
     "output_type": "stream",
     "text": [
      "None\n"
     ]
    }
   ],
   "source": [
    "# Change the data type from String to Integer for RatingValue\n",
    "# Define non-rating values\n",
    "non_ratings = [\"AwaitingInspection\", \"Awaiting Inspection\", \"AwaitingPublication\", \"Pass\", \"Exempt\"]\n",
    "\n",
    "# Set non-rating values to None\n",
    "establishments.update_many(\n",
    "    {\"RatingValue\": {\"$in\": non_ratings}}, \n",
    "    [{\"$set\": {\"RatingValue\": None}}]\n",
    ")\n",
    "\n",
    "# Update RatingValue to integer if it's a valid rating (1-5)\n",
    "establishments.update_many(\n",
    "    {\"RatingValue\": {\"$in\": [\"1\", \"2\", \"3\", \"4\", \"5\"]}},  # Only for 1-5\n",
    "    [{\"$set\": {\n",
    "        \"RatingValue\": {\"$toInt\": \"$RatingValue\"}  # Convert to integer\n",
    "    }}]\n",
    ")\n",
    "\n",
    "# Verify by checking some documents\n",
    "document = establishments.find_one({\"RatingValue\": {\"$in\": [1, 2, 3, 4, 5]}})\n",
    "print(document)"
   ]
  },
  {
   "cell_type": "code",
   "execution_count": 26,
   "id": "92524ccc",
   "metadata": {},
   "outputs": [
    {
     "ename": "KeyError",
     "evalue": "'RatingValue'",
     "output_type": "error",
     "traceback": [
      "\u001b[1;31m---------------------------------------------------------------------------\u001b[0m",
      "\u001b[1;31mKeyError\u001b[0m                                  Traceback (most recent call last)",
      "Cell \u001b[1;32mIn[26], line 7\u001b[0m\n\u001b[0;32m      5\u001b[0m longitude_type \u001b[38;5;241m=\u001b[39m \u001b[38;5;28mtype\u001b[39m(document[\u001b[38;5;124m\"\u001b[39m\u001b[38;5;124mgeocode\u001b[39m\u001b[38;5;124m\"\u001b[39m][\u001b[38;5;124m\"\u001b[39m\u001b[38;5;124mlongitude\u001b[39m\u001b[38;5;124m\"\u001b[39m])\n\u001b[0;32m      6\u001b[0m latitude_type \u001b[38;5;241m=\u001b[39m \u001b[38;5;28mtype\u001b[39m(document[\u001b[38;5;124m\"\u001b[39m\u001b[38;5;124mgeocode\u001b[39m\u001b[38;5;124m\"\u001b[39m][\u001b[38;5;124m\"\u001b[39m\u001b[38;5;124mlatitude\u001b[39m\u001b[38;5;124m\"\u001b[39m])\n\u001b[1;32m----> 7\u001b[0m rating_value_type \u001b[38;5;241m=\u001b[39m \u001b[38;5;28mtype\u001b[39m(document[\u001b[38;5;124m\"\u001b[39m\u001b[38;5;124mRatingValue\u001b[39m\u001b[38;5;124m\"\u001b[39m])\n\u001b[0;32m      9\u001b[0m \u001b[38;5;66;03m# Print the types\u001b[39;00m\n\u001b[0;32m     10\u001b[0m \u001b[38;5;28mprint\u001b[39m(\u001b[38;5;124mf\u001b[39m\u001b[38;5;124m\"\u001b[39m\u001b[38;5;124mLongitude type: \u001b[39m\u001b[38;5;132;01m{\u001b[39;00mlongitude_type\u001b[38;5;132;01m}\u001b[39;00m\u001b[38;5;124m\"\u001b[39m)\n",
      "\u001b[1;31mKeyError\u001b[0m: 'RatingValue'"
     ]
    }
   ],
   "source": [
    "# Check that the coordinates and rating value are now numbers\n",
    "document = establishments.find_one()\n",
    "\n",
    "# Check the types of longitude, latitude, and RatingValue\n",
    "longitude_type = type(document[\"geocode\"][\"longitude\"])\n",
    "latitude_type = type(document[\"geocode\"][\"latitude\"])\n",
    "rating_value_type = type(document[\"RatingValue\"])\n",
    "\n",
    "# Print the types\n",
    "print(f\"Longitude type: {longitude_type}\")\n",
    "print(f\"Latitude type: {latitude_type}\")\n",
    "print(f\"RatingValue type: {rating_value_type}\")"
   ]
  },
  {
   "cell_type": "code",
   "execution_count": null,
   "id": "2c1d7d2f-7026-413c-978a-64aeff76ca19",
   "metadata": {},
   "outputs": [],
   "source": []
  }
 ],
 "metadata": {
  "kernelspec": {
   "display_name": "Python 3 (ipykernel)",
   "language": "python",
   "name": "python3"
  },
  "language_info": {
   "codemirror_mode": {
    "name": "ipython",
    "version": 3
   },
   "file_extension": ".py",
   "mimetype": "text/x-python",
   "name": "python",
   "nbconvert_exporter": "python",
   "pygments_lexer": "ipython3",
   "version": "3.12.4"
  }
 },
 "nbformat": 4,
 "nbformat_minor": 5
}
